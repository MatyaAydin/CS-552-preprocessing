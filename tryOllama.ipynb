{
  "cells": [
    {
      "cell_type": "code",
      "source": [
        "USERNAME = \"MatyaAydin\"\n",
        "REPONAME = \"CS-552-preprocessing\""
      ],
      "metadata": {
        "id": "2opGmiRsVoKq"
      },
      "id": "2opGmiRsVoKq",
      "execution_count": null,
      "outputs": []
    },
    {
      "cell_type": "code",
      "source": [
        "!git clone https://github.com/{USERNAME}/{REPONAME}.git\n",
        "%cd {REPONAME}"
      ],
      "metadata": {
        "id": "FyE0GrFKPmwQ"
      },
      "id": "FyE0GrFKPmwQ",
      "execution_count": null,
      "outputs": []
    },
    {
      "cell_type": "code",
      "execution_count": null,
      "id": "3208ed38",
      "metadata": {
        "id": "3208ed38"
      },
      "outputs": [],
      "source": [
        "from transformers import AutoModelForCausalLM, AutoTokenizer\n",
        "from keys.HF_KEY import api_key\n",
        "\n",
        "model_name = \"meta-llama/Llama-3.2-1B\"\n",
        "\n",
        "tokenizer = AutoTokenizer.from_pretrained(model_name, token=api_key)\n",
        "model = AutoModelForCausalLM.from_pretrained(\n",
        "    model_name,\n",
        "    token=api_key\n",
        ")\n"
      ]
    },
    {
      "cell_type": "code",
      "source": [
        "question = \"What does $\\sigma$ and $\\mu$ represent in statistics?\"\n",
        "prompt = f\"Answer: {question}\"\n",
        "\n",
        "\n",
        "inputs = tokenizer(prompt, return_tensors=\"pt\")\n",
        "outputs = model.generate(**inputs, max_new_tokens=50)\n",
        "\n",
        "decoded = tokenizer.decode(outputs[0], skip_special_tokens=True)"
      ],
      "metadata": {
        "id": "rSHX3y3CQ1FR"
      },
      "id": "rSHX3y3CQ1FR",
      "execution_count": null,
      "outputs": []
    },
    {
      "cell_type": "code",
      "source": [
        "decoded"
      ],
      "metadata": {
        "id": "jkYEHwCuTEQ1"
      },
      "id": "jkYEHwCuTEQ1",
      "execution_count": null,
      "outputs": []
    }
  ],
  "metadata": {
    "kernelspec": {
      "display_name": "Python 3",
      "language": "python",
      "name": "python3"
    },
    "language_info": {
      "codemirror_mode": {
        "name": "ipython",
        "version": 3
      },
      "file_extension": ".py",
      "mimetype": "text/x-python",
      "name": "python",
      "nbconvert_exporter": "python",
      "pygments_lexer": "ipython3",
      "version": "3.10.11"
    },
    "colab": {
      "provenance": []
    }
  },
  "nbformat": 4,
  "nbformat_minor": 5
}