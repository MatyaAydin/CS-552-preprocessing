{
  "cells": [
    {
      "cell_type": "markdown",
      "metadata": {
        "id": "view-in-github",
        "colab_type": "text"
      },
      "source": [
        "<a href=\"https://colab.research.google.com/github/MatyaAydin/CS-552-preprocessing/blob/main/tryOllama.ipynb\" target=\"_parent\"><img src=\"https://colab.research.google.com/assets/colab-badge.svg\" alt=\"Open In Colab\"/></a>"
      ]
    },
    {
      "cell_type": "code",
      "source": [
        "USERNAME = \"MatyaAydin\"\n",
        "REPONAME = \"CS-552-preprocessing\""
      ],
      "metadata": {
        "id": "2opGmiRsVoKq"
      },
      "id": "2opGmiRsVoKq",
      "execution_count": null,
      "outputs": []
    },
    {
      "cell_type": "code",
      "source": [
        "!git clone https://github.com/{USERNAME}/{REPONAME}.git\n",
        "%cd {REPONAME}"
      ],
      "metadata": {
        "id": "FyE0GrFKPmwQ"
      },
      "id": "FyE0GrFKPmwQ",
      "execution_count": null,
      "outputs": []
    },
    {
      "cell_type": "code",
      "execution_count": null,
      "id": "3208ed38",
      "metadata": {
        "id": "3208ed38"
      },
      "outputs": [],
      "source": [
        "from transformers import AutoModelForCausalLM, AutoTokenizer\n",
        "from keys.HF_KEY import api_key\n",
        "\n",
        "model_name = \"meta-llama/Llama-3.2-1B\"\n",
        "\n",
        "tokenizer = AutoTokenizer.from_pretrained(model_name, token=api_key)\n",
        "model = AutoModelForCausalLM.from_pretrained(\n",
        "    model_name,\n",
        "    token=api_key\n",
        ")\n"
      ]
    },
    {
      "cell_type": "code",
      "source": [
        "#with context\n",
        "context = \"\"\"Consider the equations for a standard LSTM cell:\n",
        "$$\n",
        "\\begin{aligned}\n",
        "& i_{t}=\\sigma\\left(W_{i x} x_{t}+W_{i h} h_{t-1}+b_{i}\\right) \\\\\n",
        "& f_{t}=\\sigma\\left(W_{f x} x_{t}+W_{f h} h_{t-1}+b_{f}\\right) \\\\\n",
        "& o_{t}=\\sigma\\left(W_{o x} x_{t}+W_{o h} h_{t-1}+b_{o}\\right) \\\\\n",
        "& \\tilde{c}_{t}=\\phi\\left(W_{c x} x_{t}+W_{c h} h_{t-1}+b_{c}\\right) \\\\\n",
        "& c_{t}=f_{t} \\odot c_{t-1}+i_{t} \\odot \\tilde{c}_{t} \\\\\n",
        "& h_{t}=o_{t} \\odot \\phi\\left(c_{t}\\right)\n",
        "\\end{aligned}\n",
        "$$\"\"\"\n",
        "\n",
        "question = \"which term explicitly represents the memory component that enables the LSTM to retain long-term information across timesteps?\"\n",
        "prompt = f\"[CONTEXT]: {context}\\n [QUESTION]:{question}\\n [ANSWER]: fill\"\n",
        "\n",
        "\n",
        "inputs = tokenizer(prompt, return_tensors=\"pt\")\n",
        "outputs = model.generate(**inputs, max_new_tokens=50)\n",
        "\n",
        "decoded = tokenizer.decode(outputs[0], skip_special_tokens=True)"
      ],
      "metadata": {
        "id": "rSHX3y3CQ1FR"
      },
      "id": "rSHX3y3CQ1FR",
      "execution_count": null,
      "outputs": []
    },
    {
      "cell_type": "code",
      "source": [
        "decoded"
      ],
      "metadata": {
        "id": "jkYEHwCuTEQ1"
      },
      "id": "jkYEHwCuTEQ1",
      "execution_count": null,
      "outputs": []
    },
    {
      "cell_type": "code",
      "source": [
        "#no context\n",
        "prompt = f\"[QUESTION]: {question}\\n [ANSWER]: fill\"\n",
        "\n",
        "inputs = tokenizer(prompt, return_tensors=\"pt\")\n",
        "outputs = model.generate(**inputs, max_new_tokens=50)\n",
        "\n",
        "decoded = tokenizer.decode(outputs[0], skip_special_tokens=True)"
      ],
      "metadata": {
        "id": "4u4vXTEzhEeM"
      },
      "id": "4u4vXTEzhEeM",
      "execution_count": null,
      "outputs": []
    },
    {
      "cell_type": "code",
      "source": [
        "decoded"
      ],
      "metadata": {
        "id": "spUcdYmEhOfg"
      },
      "id": "spUcdYmEhOfg",
      "execution_count": null,
      "outputs": []
    }
  ],
  "metadata": {
    "kernelspec": {
      "display_name": "Python 3",
      "language": "python",
      "name": "python3"
    },
    "language_info": {
      "codemirror_mode": {
        "name": "ipython",
        "version": 3
      },
      "file_extension": ".py",
      "mimetype": "text/x-python",
      "name": "python",
      "nbconvert_exporter": "python",
      "pygments_lexer": "ipython3",
      "version": "3.10.11"
    },
    "colab": {
      "provenance": [],
      "include_colab_link": true
    }
  },
  "nbformat": 4,
  "nbformat_minor": 5
}